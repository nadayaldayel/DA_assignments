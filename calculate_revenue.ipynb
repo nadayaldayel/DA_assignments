{
 "cells": [
  {
   "cell_type": "code",
   "execution_count": 17,
   "id": "b37ebd4b",
   "metadata": {},
   "outputs": [
    {
     "name": "stdout",
     "output_type": "stream",
     "text": [
      "The annual_gross_revenue is 315000\n",
      "The monthly_gross_revenue is 26250.0\n",
      "The quarterly_gross_revenue is 78750.0\n"
     ]
    }
   ],
   "source": [
    "#Q1\n",
    "sales = 150\n",
    "average_price = 2100\n",
    "cogs_percentage = 0.59\n",
    "annual_gross_revenue = sales*average_price\n",
    "monthly_gross_revenue = (sales*average_price)/12\n",
    "quarterly_gross_revenue = (sales*average_price)/4\n",
    "print(\"The annual_gross_revenue is {0}\".format(annual_gross_revenue))\n",
    "print(\"The monthly_gross_revenue is {0}\".format(monthly_gross_revenue))\n",
    "print(\"The quarterly_gross_revenue is {0}\".format(quarterly_gross_revenue))"
   ]
  },
  {
   "cell_type": "code",
   "execution_count": 21,
   "id": "ae37b64b",
   "metadata": {},
   "outputs": [
    {
     "name": "stdout",
     "output_type": "stream",
     "text": [
      "The annual_net_revenue is 129150.0\n",
      "The monthly_net_revenue is 10762.5\n",
      "The quarterly_net_revenue is 3658921875.0\n"
     ]
    }
   ],
   "source": [
    "#Q2\n",
    "annual_cost = annual_gross_revenue*cogs_percentage\n",
    "monthly_cost = monthly_gross_revenue*cogs_percentage\n",
    "quarterly_cost = quarterly_gross_revenue*cogs_percentage\n",
    "print(\"The annual_net_revenue is {0}\".format(annual_gross_revenue - annual_cost))\n",
    "print(\"The monthly_net_revenue is {0}\".format(monthly_gross_revenue - monthly_cost))\n",
    "print(\"The quarterly_net_revenue is {0}\".format(quarterly_gross_revenue*quarterly_cost))"
   ]
  },
  {
   "cell_type": "code",
   "execution_count": 37,
   "id": "7af82b96",
   "metadata": {},
   "outputs": [
    {
     "name": "stdout",
     "output_type": "stream",
     "text": [
      "Enter total sales:a\n"
     ]
    },
    {
     "data": {
      "text/plain": [
       "False"
      ]
     },
     "execution_count": 37,
     "metadata": {},
     "output_type": "execute_result"
    }
   ],
   "source": [
    "#Q3\n",
    "sales = input(\"Enter total sales:\")\n",
    "sales.isnumeric()"
   ]
  },
  {
   "cell_type": "code",
   "execution_count": 56,
   "id": "6fcd934e",
   "metadata": {},
   "outputs": [
    {
     "name": "stdout",
     "output_type": "stream",
     "text": [
      "The jan_average is 2024.875\n",
      "The feb_average is 2180.8333333333335\n",
      "The mar_average is 1975.6363636363637\n",
      "The apr_average is 2143.1666666666665\n",
      "The may_average is 2114.181818181818\n",
      "The jun_average is 2147.5833333333335\n",
      "The jul_average is 2110.7272727272725\n",
      "The aug_average is 2016.3\n",
      "The sep_average is 1841.8333333333333\n",
      "The oct_average is 1977.3\n",
      "The nov_average is 1841.8333333333333\n",
      "The dec_average is 1955.625\n"
     ]
    }
   ],
   "source": [
    "#Q4\n",
    "jan_sales = [1834., 1918.,  812., 1680., 2492., 2776., 2390., 2297.]\n",
    "feb_sales = [2148., 1745., 2190., 1863., 2589., 2345., 2724., 2239., 2785., 1483., 2038., 2021.]\n",
    "mar_sales = [1968., 1718., 1634., 2126., 1252., 2538., 2837., 1223., 2034., 1611., 2791.]\n",
    "apr_sales = [2496., 2733.,  706., 2386., 3382., 1844., 1440., 2594., 1978., 2023., 2559., 1577.]\n",
    "may_sales = [2832., 1681., 1954., 1801., 2294., 1732., 1638., 1949., 2676., 2329., 2370.]\n",
    "jun_sales = [2335., 2538., 2186., 2186., 2622., 2564., 1269., 3124., 1286., 1689., 2627., 1345.]\n",
    "jul_sales = [1651., 1957.,  853., 2229., 2990., 3148., 2917.,  952., 1583., 2447., 2491.]\n",
    "aug_sales = [2520., 2540., 1756., 1562., 972., 2258., 1413., 1779., 2503., 2860.]\n",
    "sep_sales = [1827., 2003., 1349., 1858., 1370., 1076., 2897., 2238.,   91., 1951., 2509., 2933.]\n",
    "oct_sales = [1273., 3169., 1192., 2219., 2195., 3157., 2912., 2012.,  722.,  922.]\n",
    "nov_sales = [1827., 2003., 1349., 1858., 1370., 1076., 2897., 2238.,   91., 1951., 2509., 2933.]\n",
    "dec_sales = [2200., 2460., 1260., 3157., 2912., 2012.,  722.,  922.]\n",
    "jan_average= sum(jan_sales)/ len(jan_sales)\n",
    "feb_average= sum(feb_sales)/ len(feb_sales)\n",
    "mar_average= sum(mar_sales)/ len(mar_sales)\n",
    "apr_average= sum(apr_sales)/ len(apr_sales)\n",
    "may_average= sum(may_sales)/ len(may_sales)\n",
    "jun_average= sum(jun_sales)/ len(jun_sales)\n",
    "jul_average= sum(jul_sales)/ len(jul_sales)\n",
    "aug_average= sum(aug_sales)/ len(aug_sales)\n",
    "sep_average= sum(sep_sales)/ len(sep_sales)\n",
    "oct_average= sum(oct_sales)/ len(oct_sales)\n",
    "nov_average= sum(nov_sales)/ len(nov_sales)\n",
    "dec_average= sum(dec_sales)/ len(dec_sales)\n",
    "\n",
    "print(\"The jan_average is {0}\".format(jan_average))\n",
    "print(\"The feb_average is {0}\".format(feb_average))\n",
    "print(\"The mar_average is {0}\".format(mar_average))\n",
    "print(\"The apr_average is {0}\".format(apr_average))\n",
    "print(\"The may_average is {0}\".format(may_average))\n",
    "print(\"The jun_average is {0}\".format(jun_average))\n",
    "print(\"The jul_average is {0}\".format(jul_average))\n",
    "print(\"The aug_average is {0}\".format(aug_average))\n",
    "print(\"The sep_average is {0}\".format(sep_average))\n",
    "print(\"The oct_average is {0}\".format(oct_average))\n",
    "print(\"The nov_average is {0}\".format(nov_average))\n",
    "print(\"The dec_average is {0}\".format(dec_average))"
   ]
  },
  {
   "cell_type": "code",
   "execution_count": 58,
   "id": "da64a69c",
   "metadata": {},
   "outputs": [
    {
     "name": "stdout",
     "output_type": "stream",
     "text": [
      "['abcdefghijklmnopqrstuvwxyz', '!#$%&*+_?@^', 'ABCDEFGHIJKLMNOPQRSTUVWXYZ']\n"
     ]
    }
   ],
   "source": [
    "#Q5\n",
    "import string\n",
    "import random\n",
    "\n",
    "source1 = string.ascii_lowercase\n",
    "source2 = \"!#$%&*+_?@^\"\n",
    "source3 = string.ascii_uppercase\n",
    "list_r =[source1, source2, source3]#.paretovariate\n",
    "print(list_r)"
   ]
  },
  {
   "cell_type": "code",
   "execution_count": null,
   "id": "4c95824e",
   "metadata": {},
   "outputs": [],
   "source": []
  },
  {
   "cell_type": "code",
   "execution_count": null,
   "id": "6c643393",
   "metadata": {},
   "outputs": [],
   "source": []
  }
 ],
 "metadata": {
  "kernelspec": {
   "display_name": "Python 3",
   "language": "python",
   "name": "python3"
  },
  "language_info": {
   "codemirror_mode": {
    "name": "ipython",
    "version": 3
   },
   "file_extension": ".py",
   "mimetype": "text/x-python",
   "name": "python",
   "nbconvert_exporter": "python",
   "pygments_lexer": "ipython3",
   "version": "3.8.10"
  }
 },
 "nbformat": 4,
 "nbformat_minor": 5
}
